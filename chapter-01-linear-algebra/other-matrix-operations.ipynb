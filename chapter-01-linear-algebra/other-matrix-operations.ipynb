{
 "cells": [
  {
   "cell_type": "markdown",
   "metadata": {},
   "source": [
    "# Other Matrix Operations\n",
    "\n",
    "There are a variety of other matrix operations that are used within machine learning. Most of these are simpler than matrix multiplication, but regardless, they are important to know and use."
   ]
  },
  {
   "cell_type": "code",
   "execution_count": 14,
   "metadata": {},
   "outputs": [],
   "source": [
    "import numpy as np\n",
    "import matplotlib.pyplot\n",
    "from random import randint"
   ]
  },
  {
   "cell_type": "markdown",
   "metadata": {},
   "source": [
    "## Transpose"
   ]
  },
  {
   "cell_type": "code",
   "execution_count": 3,
   "metadata": {},
   "outputs": [
    {
     "data": {
      "text/plain": [
       "array([[1, 4],\n",
       "       [2, 5],\n",
       "       [3, 6]])"
      ]
     },
     "execution_count": 3,
     "metadata": {},
     "output_type": "execute_result"
    }
   ],
   "source": [
    "A = np.array([[1, 2, 3],\n",
    "              [4, 5, 6]])\n",
    "A.T"
   ]
  },
  {
   "cell_type": "markdown",
   "metadata": {},
   "source": [
    "**Problem:** Write a function that does the transpose. If you need to, try working it out by hand first and then coding."
   ]
  },
  {
   "cell_type": "code",
   "execution_count": 6,
   "metadata": {},
   "outputs": [],
   "source": [
    "def transpose(A):\n",
    "    B = np.empty((A.shape[1], A.shape[0]))\n",
    "    for i in range(A.shape[1]):\n",
    "        for j in range(A.shape[0]):\n",
    "            B[i][j] = A[j][i]\n",
    "    return B"
   ]
  },
  {
   "cell_type": "code",
   "execution_count": 7,
   "metadata": {},
   "outputs": [
    {
     "name": "stdout",
     "output_type": "stream",
     "text": [
      "Success\n"
     ]
    }
   ],
   "source": [
    "for i in range(10):\n",
    "    shape = np.random.randint(low=1, high=100, size=2)\n",
    "    A = np.random.randn(*shape)\n",
    "    assert np.allclose(A.T, transpose(A))\n",
    "print('Success')"
   ]
  },
  {
   "cell_type": "markdown",
   "metadata": {},
   "source": [
    "**Problem:** Verify the first 3 properties of the matrix transpose listed in [Wikipedia](https://en.wikipedia.org/wiki/Transpose#Properties). Namely,\n",
    "\n",
    "$$\\begin{align}\n",
    "\\left(\\mathbf {A} ^{\\mathrm {T} }\\right)^{\\mathrm {T} }&=\\mathbf {A} \\quad  \\\\\n",
    "\\left(\\mathbf {A} +\\mathbf {B} \\right)^{\\mathrm {T} }&=\\mathbf {A} ^{\\mathrm {T} }+\\mathbf {B} ^{\\mathrm {T}} \\\\\n",
    "\\left(\\mathbf {AB} \\right)^{\\mathrm {T} } &=\\mathbf {B} ^{\\mathrm {T} }\\mathbf {A} ^{\\mathrm {T} }\n",
    "\\end{align}$$\n",
    "\n",
    "Use the built-in Numpy functions `A.dot(B)`, `A.T`, and `A + B` to demonstrate this numerically. Make sure you verify this for non-square matrices. Meaning ` A.shape[0] != A.shape[1] `."
   ]
  },
  {
   "cell_type": "code",
   "execution_count": 12,
   "metadata": {},
   "outputs": [
    {
     "name": "stdout",
     "output_type": "stream",
     "text": [
      "Success\n",
      "Success\n",
      "Success\n"
     ]
    }
   ],
   "source": [
    "for i in range(10):\n",
    "    shape = np.random.randint(low=1, high=100, size=2)\n",
    "    A = np.random.randn(*shape)\n",
    "    assert np.allclose(A.T.T, A)\n",
    "print('Success')\n",
    "\n",
    "for i in range(10):\n",
    "    shape = np.random.randint(low=1, high=100, size=2)\n",
    "    A = np.random.randn(*shape)\n",
    "    B = np.random.randn(*shape)\n",
    "    assert np.allclose((A+B).T, A.T + B.T)\n",
    "print('Success')\n",
    "\n",
    "for i in range(10):\n",
    "    shape = np.random.randint(low=1, high=100, size=2)\n",
    "    A = np.random.randn(shape[0], shape[1])\n",
    "    B = np.random.randn(shape[1], shape[0])\n",
    "    assert np.allclose((A.dot(B)).T, (B.T).dot(A.T))\n",
    "print('Success')"
   ]
  },
  {
   "cell_type": "markdown",
   "metadata": {},
   "source": [
    "## Matrix-Vector Multiplication\n",
    "\n",
    "A matrix times a vector is the same as a matrix times a matrix if the second matrix is a column,"
   ]
  },
  {
   "cell_type": "code",
   "execution_count": 13,
   "metadata": {},
   "outputs": [
    {
     "name": "stdout",
     "output_type": "stream",
     "text": [
      "[[ 0  1  2  3  4  5]\n",
      " [ 6  7  8  9 10 11]\n",
      " [12 13 14 15 16 17]\n",
      " [18 19 20 21 22 23]\n",
      " [24 25 26 27 28 29]]\n",
      "[[0]\n",
      " [1]\n",
      " [2]\n",
      " [3]\n",
      " [4]\n",
      " [5]]\n",
      "[[ 55]\n",
      " [145]\n",
      " [235]\n",
      " [325]\n",
      " [415]]\n"
     ]
    }
   ],
   "source": [
    "A = np.arange(30).reshape((5, 6))\n",
    "b = np.arange(6).reshape((6, 1))\n",
    "print(A)\n",
    "print(b)\n",
    "print(A.dot(b))"
   ]
  },
  {
   "cell_type": "markdown",
   "metadata": {},
   "source": [
    "**Problem:** If I have a matrix $ A $ with shape `(N, M)` and multiply it by a vector $ x $. What shape must $ x $ be? What shape will $ A x $ be? Verify this numerically."
   ]
  },
  {
   "cell_type": "code",
   "execution_count": 13,
   "metadata": {},
   "outputs": [
    {
     "name": "stdout",
     "output_type": "stream",
     "text": [
      "Success\n"
     ]
    }
   ],
   "source": [
    "for i in range(10):\n",
    "    shape = np.random.randint(low=1, high=100, size=2)\n",
    "    A = np.random.randn(shape[0], shape[1])\n",
    "    B = np.random.randn(shape[1], 1)\n",
    "    shape1 = (shape[0], 1)\n",
    "    assert np.allclose(A.dot(B).shape, shape1)\n",
    "print('Success')"
   ]
  },
  {
   "cell_type": "markdown",
   "metadata": {},
   "source": [
    "## Symmetric Matrices\n",
    "\n",
    "Symmetric matrices are such that $ S = S^T $. We can make symmetric matrices by taking any square matrix $ A $ and doing $ S = A + A^T $.\n",
    "\n",
    "**Problem:** Verify this numerically with a few randomly generated examples and then prove it analytically."
   ]
  },
  {
   "cell_type": "code",
   "execution_count": 15,
   "metadata": {},
   "outputs": [
    {
     "name": "stdout",
     "output_type": "stream",
     "text": [
      "Success\n"
     ]
    }
   ],
   "source": [
    "for i in range(10):\n",
    "    n = randint(1, 100)\n",
    "    A = np.random.randn(n, n)\n",
    "    S = A + A.T\n",
    "    assert np.allclose(S, S.T)\n",
    "print('Success')"
   ]
  },
  {
   "cell_type": "markdown",
   "metadata": {},
   "source": [
    "You can also make symmetric matrices by doing $ S = A^T A $.\n",
    "\n",
    "**Problem:** Verify this numerically with a few randomly generated examples and then prove it analytically."
   ]
  },
  {
   "cell_type": "code",
   "execution_count": 16,
   "metadata": {},
   "outputs": [
    {
     "name": "stdout",
     "output_type": "stream",
     "text": [
      "Success\n"
     ]
    }
   ],
   "source": [
    "for i in range(10):\n",
    "    n = randint(1, 100)\n",
    "    A = np.random.randn(n, n)\n",
    "    S = (A.T).dot(A)\n",
    "    assert np.allclose(S, S.T)\n",
    "print('Success')"
   ]
  },
  {
   "cell_type": "markdown",
   "metadata": {},
   "source": [
    "Symmetric matrices like $ S = A^T A $ have a special property under multiplication. Namely for any vector $ z $ of the correct shape, $ z^T A^T A z \\geq 0 $ regardless of the matrix $ A $.\n",
    "\n",
    "**Problem:** Demonstrate this numerically by running random examples. If you know how, prove this analytically after."
   ]
  },
  {
   "cell_type": "code",
   "execution_count": 17,
   "metadata": {},
   "outputs": [
    {
     "name": "stdout",
     "output_type": "stream",
     "text": [
      "Success\n"
     ]
    }
   ],
   "source": [
    "for i in range(10):\n",
    "    shape = np.random.randint(low=1, high=100, size=2)\n",
    "    A = np.random.randn(shape[0], shape[1])\n",
    "    z = np.random.randn(shape[1], 1)\n",
    "    assert (z.T).dot(A.T).dot(A).dot(z) >= 0\n",
    "print('Success')"
   ]
  }
 ],
 "metadata": {
  "kernelspec": {
   "display_name": "Python 3",
   "language": "python",
   "name": "python3"
  },
  "language_info": {
   "codemirror_mode": {
    "name": "ipython",
    "version": 3
   },
   "file_extension": ".py",
   "mimetype": "text/x-python",
   "name": "python",
   "nbconvert_exporter": "python",
   "pygments_lexer": "ipython3",
   "version": "3.6.4"
  }
 },
 "nbformat": 4,
 "nbformat_minor": 2
}
