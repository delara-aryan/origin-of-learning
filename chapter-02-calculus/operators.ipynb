{
 "cells": [
  {
   "cell_type": "markdown",
   "metadata": {},
   "source": [
    "**Problem:** Using the polydiff I wrote below (just because it will run faster), write a function that computes the coefficients of the polynomial for the derivative."
   ]
  },
  {
   "cell_type": "code",
   "execution_count": 3,
   "metadata": {},
   "outputs": [],
   "source": [
    "import numpy as np\n",
    "import matplotlib.pyplot as plt"
   ]
  },
  {
   "cell_type": "code",
   "execution_count": 4,
   "metadata": {},
   "outputs": [],
   "source": [
    "def polydiff(coeffs, x):\n",
    "    return np.gradient(np.polyval(coeffs, x))/np.gradient(x)\n",
    "\n",
    "def diff_coeffs(coeffs):\n",
    "    \"\"\"\n",
    "    Return the coefficients for the derivative polynomial\n",
    "    \"\"\"\n",
    "    x = np.arange(-10, 10, 1e-3)\n",
    "    diffs = polydiff(coeffs, x)\n",
    "    return np.polyfit(x, diffs, deg=len(coeffs) - 2)"
   ]
  },
  {
   "cell_type": "markdown",
   "metadata": {},
   "source": [
    "Now if we consider polynomials like,\n",
    "\n",
    "$$\\begin{align}\n",
    "P_\\vec{a}(x) = \\sum_n a_n x^n\n",
    "\\end{align}$$\n",
    "\n",
    "If we take the derivative of this polynomial, we could imagine getting another polynomial like,\n",
    "$$\\begin{align}\n",
    "\\frac{d}{dx} P_\\vec{a}(x) = \\sum_n b_n x^n\n",
    "\\end{align}$$\n",
    "\n",
    "Where there ought to be some kind of relation between $ \\vec{a} $ and $ \\vec{b} $. Lets hypothesis that this relationship is a matrix transformation.\n",
    "\n",
    "$$\\begin{align}\n",
    "\\vec{b} = D \\vec{a}\n",
    "\\end{align}$$\n",
    "\n",
    "**Problem:** Generate a large set of samples by giving `diff_coeffs` random coefficients (just go up to length 5). Collect the input and output coefficients into two matrices `A` and `B` of shape `(M, 5)` and `(M, 5)` respectively."
   ]
  },
  {
   "cell_type": "code",
   "execution_count": 5,
   "metadata": {},
   "outputs": [
    {
     "ename": "ValueError",
     "evalue": "could not broadcast input array from shape (4) into shape (5)",
     "output_type": "error",
     "traceback": [
      "\u001b[0;31m---------------------------------------------------------------------------\u001b[0m",
      "\u001b[0;31mValueError\u001b[0m                                Traceback (most recent call last)",
      "\u001b[0;32m<ipython-input-5-c35249bcd8fa>\u001b[0m in \u001b[0;36m<module>\u001b[0;34m()\u001b[0m\n\u001b[1;32m      4\u001b[0m \u001b[0mA\u001b[0m \u001b[0;34m=\u001b[0m \u001b[0mnp\u001b[0m\u001b[0;34m.\u001b[0m\u001b[0mrandom\u001b[0m\u001b[0;34m.\u001b[0m\u001b[0mrandn\u001b[0m\u001b[0;34m(\u001b[0m\u001b[0msamples\u001b[0m\u001b[0;34m,\u001b[0m \u001b[0morder\u001b[0m\u001b[0;34m)\u001b[0m\u001b[0;34m\u001b[0m\u001b[0m\n\u001b[1;32m      5\u001b[0m \u001b[0;32mfor\u001b[0m \u001b[0mi\u001b[0m \u001b[0;32min\u001b[0m \u001b[0mrange\u001b[0m\u001b[0;34m(\u001b[0m\u001b[0;36m100\u001b[0m\u001b[0;34m)\u001b[0m\u001b[0;34m:\u001b[0m\u001b[0;34m\u001b[0m\u001b[0m\n\u001b[0;32m----> 6\u001b[0;31m     \u001b[0mB\u001b[0m\u001b[0;34m[\u001b[0m\u001b[0mi\u001b[0m\u001b[0;34m]\u001b[0m \u001b[0;34m=\u001b[0m \u001b[0mdiff_coeffs\u001b[0m\u001b[0;34m(\u001b[0m\u001b[0mA\u001b[0m\u001b[0;34m[\u001b[0m\u001b[0mi\u001b[0m\u001b[0;34m]\u001b[0m\u001b[0;34m)\u001b[0m\u001b[0;34m\u001b[0m\u001b[0m\n\u001b[0m\u001b[1;32m      7\u001b[0m \u001b[0mprint\u001b[0m\u001b[0;34m(\u001b[0m\u001b[0mA\u001b[0m\u001b[0;34m)\u001b[0m\u001b[0;34m\u001b[0m\u001b[0m\n\u001b[1;32m      8\u001b[0m \u001b[0mprint\u001b[0m\u001b[0;34m(\u001b[0m\u001b[0mB\u001b[0m\u001b[0;34m)\u001b[0m\u001b[0;34m\u001b[0m\u001b[0m\n",
      "\u001b[0;31mValueError\u001b[0m: could not broadcast input array from shape (4) into shape (5)"
     ]
    }
   ],
   "source": [
    "samples = 100\n",
    "order = 5\n",
    "A, B = np.empty((samples, order)), np.empty((samples, order))\n",
    "A = np.random.randn(samples, order)\n",
    "for i in range(100):\n",
    "    B[i] = diff_coeffs(A[i])\n",
    "print(A)\n",
    "print(B)"
   ]
  },
  {
   "cell_type": "markdown",
   "metadata": {},
   "source": [
    "With these two matrices, we can now get the matrix that transforms $ A \\rightarrow B $ via,"
   ]
  },
  {
   "cell_type": "code",
   "execution_count": 12,
   "metadata": {},
   "outputs": [
    {
     "data": {
      "text/plain": [
       "array([[  0.00000000e+00,   9.02638204e-69,   0.00000000e+00,\n",
       "          9.02638204e-69,   0.00000000e+00],\n",
       "       [  0.00000000e+00,   4.80415187e-73,   0.00000000e+00,\n",
       "          4.80415187e-73,   0.00000000e+00],\n",
       "       [  0.00000000e+00,  -6.23411795e-73,   0.00000000e+00,\n",
       "         -6.23411795e-73,   0.00000000e+00],\n",
       "       [  0.00000000e+00,   2.59980729e-73,   0.00000000e+00,\n",
       "          2.59980729e-73,   0.00000000e+00],\n",
       "       [  0.00000000e+00,  -4.51321224e-69,   0.00000000e+00,\n",
       "         -4.51321224e-69,   0.00000000e+00]])"
      ]
     },
     "execution_count": 12,
     "metadata": {},
     "output_type": "execute_result"
    }
   ],
   "source": [
    "D, _, _, _ = np.linalg.lstsq(A, B)\n",
    "D"
   ]
  },
  {
   "cell_type": "markdown",
   "metadata": {},
   "source": [
    "**Problem:** What do you notice about the output? What does this say about differentiation of polynomials."
   ]
  }
 ],
 "metadata": {
  "kernelspec": {
   "display_name": "Python 3",
   "language": "python",
   "name": "python3"
  },
  "language_info": {
   "codemirror_mode": {
    "name": "ipython",
    "version": 3
   },
   "file_extension": ".py",
   "mimetype": "text/x-python",
   "name": "python",
   "nbconvert_exporter": "python",
   "pygments_lexer": "ipython3",
   "version": "3.6.4"
  }
 },
 "nbformat": 4,
 "nbformat_minor": 2
}
